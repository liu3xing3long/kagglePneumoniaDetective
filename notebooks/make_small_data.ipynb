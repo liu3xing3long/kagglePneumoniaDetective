{
 "cells": [
  {
   "cell_type": "markdown",
   "metadata": {},
   "source": [
    "## Kaggle RSNA Pneumonia Detection Challenge:\n",
    "   ### Build an algorithm that automatically detects potential pneumonia cases (from images).\n",
    "   ### Evaluated at different thresholds for intersection over union of bounding boxes (or objects).\n",
    "\\begin{align}\n",
    "\\ \\mbox{IoU(A, B) intersection over union} \\\\\n",
    "\\ \\mbox{A predicted bounding boxes} \\\\\n",
    "\\ \\mbox{B ground truth bounding boxes} \\\\\n",
    "\\ IoU(A, B) = \\frac{A \\bigcap B}{A \\bigcup B} \\\\ \n",
    "\\ \\\\\n",
    "\\ \\textit{At each threshold value t} \\\\\n",
    "\\ IoU(A, B) = \\frac{TP(t)}{TP(t)+FP(t)+FN(t)} \\\\\n",
    "\\ \\\\\n",
    "\\ \\textit{True Positives TP} \\\\\n",
    "\\ \\textit{False Positives FP} \\\\\n",
    "\\ \\textit{False Negatives FP} \\\\\n",
    "\\ \\textit{for threshold step of 0.5 over (0.4, 0.75)} \\\\\n",
    "\\ \\\\\n",
    "\\ \\textit{else the precision of a single image is:} \\\\\n",
    "\\ \\frac{1}{|thresholds|} \\sum_t \\frac{TP(t)}{TP(t)+FP(t)+FN(t)} \\\\\n",
    "\\end{align}\n",
    "\n",
    "    * Note that if ground truth is None, any False Positives give the image a score of 0\n",
    "    * In nearly all cases confidence will have no effect on scoring\n",
    "    \n",
    "****\n",
    "\n",
    "# links\n",
    "[Kaggle Challenge - Getting Started](https://www.kaggle.com/c/rsna-pneumonia-detection-challenge#Getting%20Started) <br>\n",
    "[md ai GitHub](https://github.com/mdai/ml-lessons) <br>\n",
    "[md ai My projects](https://public.md.ai/hub/projects/user) <br>\n",
    "[Google Colab kaggle](https://colab.research.google.com/github/mdai/ml-lessons/blob/master/lesson3-rsna-pneumonia-detection-kaggle.ipynb) <br>\n",
    "[darknet](https://github.com/pjreddie/darknet) <br>\n",
    "[darknet train classifier from scratch](https://pjreddie.com/darknet/train-cifar/) <br>\n",
    "\n",
    "## DarkNet, You Only Look Once YOLO & python wrappers\n",
    "****\n",
    "[YOLO](https://pjreddie.com/darknet/yolo/) <br>\n",
    "[YOLO - python](https://github.com/madhawav/YOLO3-4-Py) <br>\n",
    "[YOLO - py - docker](https://github.com/madhawav/YOLO3-4-Py/tree/master/docker) <br>\n",
    "[darknetpy pypi](https://pypi.org/project/darknetpy/) <br>\n",
    "[darknetpy GitHub](https://github.com/danielgatis/darknetpy) <br>\n",
    "[lightnet GitHub](https://github.com/explosion/lightnet) <br>\n",
    "\n",
    "****"
   ]
  },
  {
   "cell_type": "code",
   "execution_count": 1,
   "metadata": {},
   "outputs": [],
   "source": [
    "%matplotlib inline\n",
    "import os\n",
    "import sys\n",
    "\n",
    "import glob\n",
    "import pylab\n",
    "import pandas as pd\n",
    "import pydicom\n",
    "import numpy as np\n",
    "\n",
    "from PIL import Image\n",
    "\n",
    "# '../../src/dcm_wrangler.py'\n",
    "sys.path.insert(1, '../../src/')\n",
    "import kaggle_wrangler as kgwr\n",
    "\n",
    "kaggle_data_dir = '../../data/all'\n",
    "train_data_dir = os.path.join(kaggle_data_dir, 'stage_1_train_images')\n",
    "test_data_dir = os.path.join(kaggle_data_dir, 'stage_1_test_images')\n",
    "\n",
    "# os.listdir(kaggle_data_dir)"
   ]
  },
  {
   "cell_type": "markdown",
   "metadata": {},
   "source": [
    "## following directions:\n",
    "[exploratory data analysis](https://www.kaggle.com/peterchang77/exploratory-data-analysis) <br>\n",
    "\n",
    "## extracting the boxed parts or lungs into thumbnails\n",
    "    * 1) Get the list of training labels dataframe and the detailed class info dataframe.\n",
    "    * 2) For each patientId construct a thumbnail file name for each box with these parts:\n",
    "        * patientId\n",
    "        * box number if one or more box\n",
    "        * class code\n",
    "    * 3) Save a thumbnail for each box or lung if no boxes\n",
    "        * arbitrarily select the left and right lung.\n",
    "        * exactly select each box\n",
    "    \n",
    "### thumbnail size = 64 x 64"
   ]
  },
  {
   "cell_type": "code",
   "execution_count": 2,
   "metadata": {},
   "outputs": [],
   "source": [
    "# Caution they have duplicate patient id's\n",
    "\n",
    "labels_df = pd.read_csv(os.path.join(kaggle_data_dir, 'stage_1_train_labels.csv'))\n",
    "class_df = pd.read_csv(os.path.join(kaggle_data_dir, 'stage_1_detailed_class_info.csv'))\n",
    "# dfinal = labels_df.merge(class_df, on=\"patientId\", how='inner')\n",
    "\n",
    "parsed = kgwr.parse_data(labels_df, train_data_dir)"
   ]
  },
  {
   "cell_type": "code",
   "execution_count": 33,
   "metadata": {},
   "outputs": [
    {
     "name": "stdout",
     "output_type": "stream",
     "text": [
      "5560 12710\n"
     ]
    }
   ],
   "source": [
    "# get the possible number of thumbnails\n",
    "pt_Id_list = list(parsed.keys())\n",
    "positive_files = 0\n",
    "negative_files = 0\n",
    "for pt_Id in pt_Id_list:\n",
    "    pt_Id_data = parsed[pt_Id]\n",
    "    if os.path.isfile(pt_Id_data['dicom']) == True:\n",
    "        if pt_Id_data['label'] == 1 and 'boxes' in pt_Id_data:\n",
    "            positive_files += len(pt_Id_data['boxes'])\n",
    "            # pass the boxes and filename to write_box_thumbs\n",
    "            \n",
    "        elif pt_Id_data['label'] == 0:\n",
    "            negative_files += 1\n",
    "            # pass the filename to write_lung_thumbs\n",
    "            \n",
    "print(positive_files, negative_files)"
   ]
  },
  {
   "cell_type": "markdown",
   "metadata": {},
   "source": [
    "## Train for no false positives or negatives\n",
    "```python\n",
    "box = boxes_list[0]\n",
    "sm_im = im[int(box[0]): int(box[0]+box[2]),int(box[1]): int(box[1]+box[3])]\n",
    "pylab.imshow(sm_im, cmap=pylab.cm.gist_gray)\n",
    "\n",
    "from PIL import Image\n",
    "\n",
    "sm_im_tmb = Image.fromarray(sm_im)\n",
    "scalef = 1/8\n",
    "size = np.int_(np.array(sm_im.shape) * scalef)\n",
    "outfile = 'tstim.png'\n",
    "sm_im_tmb.thumbnail(size, Image.ANTIALIAS)\n",
    "sm_im_tmb.save(outfile, \"png\")\n",
    "\n",
    "```"
   ]
  },
  {
   "cell_type": "code",
   "execution_count": null,
   "metadata": {},
   "outputs": [],
   "source": [
    "def write_box_thumbs():\n",
    "    pass\n",
    "\n",
    "def write_lung_thumbs():\n",
    "    pass"
   ]
  },
  {
   "cell_type": "code",
   "execution_count": null,
   "metadata": {},
   "outputs": [],
   "source": []
  },
  {
   "cell_type": "code",
   "execution_count": null,
   "metadata": {},
   "outputs": [],
   "source": []
  },
  {
   "cell_type": "code",
   "execution_count": null,
   "metadata": {},
   "outputs": [],
   "source": []
  },
  {
   "cell_type": "code",
   "execution_count": null,
   "metadata": {},
   "outputs": [],
   "source": [
    "%%writefile ../../src/kaggle_wrangler.py\n",
    "\n",
    "import os\n",
    "import glob\n",
    "import pylab\n",
    "import pandas as pd\n",
    "import pydicom\n",
    "import numpy as np\n",
    "\n",
    "from PIL import Image\n",
    "\n",
    "file_ext = '.png'\n",
    "class_codes_dict = {'No Lung Opacity / Not Normal': 'NoLuOpNotNorm',\n",
    "                            'Lung Opacity': 'LuOp',\n",
    "                                  'Normal': 'Normal'}\n",
    "\n",
    "def get_thumbnail_name(patiendID, class_code, number_of_boxes):\n",
    "    thumbnail_name = patiendID + '_%i_'%(number_of_boxes) + class_code + file_ext\n",
    "    return thumbnail_name\n",
    "\n",
    "def get_class_code(patientID, class_info_df):\n",
    "    index_list = class_info_df.index[class_info_df['patientId'] == patientID].tolist()\n",
    "    class_code_key = class_info_df.loc[index_list[0]]['class']\n",
    "    return class_codes_dict[class_code_key]\n",
    "\n",
    "def get_boxes(patientID, parsed_data):\n",
    "    boxes_list = parsed_data[patientID]['boxes']\n",
    "    boxes_dict = {'number_of_boxes':len(boxes_list)}\n",
    "    if boxes_dict['number_of_boxes'] > 0:\n",
    "        box_number = 0\n",
    "        for box in boxes_list:\n",
    "            x1 = int(box[0])\n",
    "            x2 = int(box[0]+box[2])\n",
    "            y1 = int(box[1])\n",
    "            y2 = int(box[1]+box[3])\n",
    "        boxes_dict[box_number] = {'top_row': x1, 'bottom_row': x2, 'left_column': y1, 'right_column': y2}\n",
    "        box_number += 1\n",
    "        \n",
    "    return boxes_dict\n",
    "\n",
    "# https://www.kaggle.com/peterchang77/exploratory-data-analysis\n",
    "\n",
    "def parse_data(df, images_dir):\n",
    "    \"\"\"\n",
    "    Method to read a CSV file (Pandas dataframe) and parse the \n",
    "    data into the following nested dictionary:\n",
    "      parsed = {\n",
    "        'patientId-00': {\n",
    "            'dicom': path/to/dicom/file,\n",
    "            'label': either 0 or 1 for normal or pnuemonia, \n",
    "            'boxes': list of box(es)\n",
    "        },\n",
    "        'patientId-01': {\n",
    "            'dicom': path/to/dicom/file,\n",
    "            'label': either 0 or 1 for normal or pnuemonia, \n",
    "            'boxes': list of box(es)\n",
    "        }, ...\n",
    "      }\n",
    "    \"\"\"\n",
    "    # --- Define lambda to extract coords in list [y, x, height, width]\n",
    "    extract_box = lambda row: [row['y'], row['x'], row['height'], row['width']]\n",
    "\n",
    "    parsed = {}\n",
    "    for n, row in df.iterrows():\n",
    "        # --- Initialize patient entry into parsed \n",
    "        pid = row['patientId']\n",
    "        if pid not in parsed:\n",
    "            parsed[pid] = {\n",
    "                'dicom': os.path.join(images_dir, '%s.dcm'% pid),\n",
    "                'label': row['Target'],\n",
    "                'boxes': []}\n",
    "        # --- Add box if opacity is present\n",
    "        if parsed[pid]['label'] == 1:\n",
    "            parsed[pid]['boxes'].append(extract_box(row))\n",
    "\n",
    "    return parsed\n",
    "\n",
    "def draw(data):\n",
    "    \"\"\" Method to draw single patient with bounding box(es) if present \"\"\"\n",
    "    # --- Open DICOM file\n",
    "    d = pydicom.read_file(data['dicom'])\n",
    "    im = d.pixel_array\n",
    "\n",
    "    # --- Convert from single-channel grayscale to 3-channel RGB\n",
    "    im = np.stack([im] * 3, axis=2)\n",
    "\n",
    "    # --- Add boxes with random color if present\n",
    "    for box in data['boxes']:\n",
    "        rgb = np.floor(np.random.rand(3) * 256).astype('int')\n",
    "        im = overlay_box(im=im, box=box, rgb=rgb, stroke=6)\n",
    "\n",
    "    pylab.imshow(im, cmap=pylab.cm.gist_gray)\n",
    "    pylab.axis('off')\n",
    "\n",
    "def overlay_box(im, box, rgb, stroke=1):\n",
    "    \"\"\" Method to overlay single box on image \"\"\"\n",
    "    # --- Convert coordinates to integers\n",
    "    box = [int(b) for b in box]\n",
    "    \n",
    "    # --- Extract coordinates\n",
    "    y1, x1, height, width = box\n",
    "    y2 = y1 + height\n",
    "    x2 = x1 + width\n",
    "\n",
    "    im[y1:y1 + stroke, x1:x2] = rgb\n",
    "    im[y2:y2 + stroke, x1:x2] = rgb\n",
    "    im[y1:y2, x1:x1 + stroke] = rgb\n",
    "    im[y1:y2, x2:x2 + stroke] = rgb\n",
    "\n",
    "    return im"
   ]
  },
  {
   "cell_type": "code",
   "execution_count": null,
   "metadata": {},
   "outputs": [],
   "source": []
  },
  {
   "cell_type": "code",
   "execution_count": null,
   "metadata": {},
   "outputs": [],
   "source": []
  },
  {
   "cell_type": "code",
   "execution_count": null,
   "metadata": {},
   "outputs": [],
   "source": []
  },
  {
   "cell_type": "code",
   "execution_count": null,
   "metadata": {},
   "outputs": [],
   "source": []
  },
  {
   "cell_type": "code",
   "execution_count": null,
   "metadata": {},
   "outputs": [],
   "source": []
  },
  {
   "cell_type": "code",
   "execution_count": null,
   "metadata": {},
   "outputs": [],
   "source": []
  },
  {
   "cell_type": "code",
   "execution_count": null,
   "metadata": {},
   "outputs": [],
   "source": []
  },
  {
   "cell_type": "code",
   "execution_count": null,
   "metadata": {},
   "outputs": [],
   "source": []
  },
  {
   "cell_type": "code",
   "execution_count": null,
   "metadata": {},
   "outputs": [],
   "source": []
  },
  {
   "cell_type": "code",
   "execution_count": null,
   "metadata": {},
   "outputs": [],
   "source": []
  },
  {
   "cell_type": "code",
   "execution_count": null,
   "metadata": {},
   "outputs": [],
   "source": []
  },
  {
   "cell_type": "code",
   "execution_count": null,
   "metadata": {},
   "outputs": [],
   "source": []
  },
  {
   "cell_type": "code",
   "execution_count": null,
   "metadata": {},
   "outputs": [],
   "source": []
  },
  {
   "cell_type": "code",
   "execution_count": null,
   "metadata": {},
   "outputs": [],
   "source": []
  },
  {
   "cell_type": "code",
   "execution_count": null,
   "metadata": {},
   "outputs": [],
   "source": []
  },
  {
   "cell_type": "code",
   "execution_count": null,
   "metadata": {},
   "outputs": [],
   "source": []
  },
  {
   "cell_type": "code",
   "execution_count": null,
   "metadata": {},
   "outputs": [],
   "source": []
  },
  {
   "cell_type": "code",
   "execution_count": null,
   "metadata": {},
   "outputs": [],
   "source": []
  },
  {
   "cell_type": "code",
   "execution_count": null,
   "metadata": {},
   "outputs": [],
   "source": []
  },
  {
   "cell_type": "code",
   "execution_count": null,
   "metadata": {},
   "outputs": [],
   "source": []
  },
  {
   "cell_type": "code",
   "execution_count": null,
   "metadata": {},
   "outputs": [],
   "source": []
  },
  {
   "cell_type": "code",
   "execution_count": null,
   "metadata": {},
   "outputs": [],
   "source": []
  },
  {
   "cell_type": "code",
   "execution_count": null,
   "metadata": {},
   "outputs": [],
   "source": []
  }
 ],
 "metadata": {
  "kernelspec": {
   "display_name": "Python 3",
   "language": "python",
   "name": "python3"
  },
  "language_info": {
   "codemirror_mode": {
    "name": "ipython",
    "version": 3
   },
   "file_extension": ".py",
   "mimetype": "text/x-python",
   "name": "python",
   "nbconvert_exporter": "python",
   "pygments_lexer": "ipython3",
   "version": "3.5.2"
  }
 },
 "nbformat": 4,
 "nbformat_minor": 2
}
